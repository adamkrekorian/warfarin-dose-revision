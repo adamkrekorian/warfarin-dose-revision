{
 "cells": [
  {
   "cell_type": "code",
   "execution_count": 5,
   "metadata": {
    "id": "ziH4yl7Fmhur"
   },
   "outputs": [
    {
     "name": "stdout",
     "output_type": "stream",
     "text": [
      "Requirement already satisfied: SAS7BDAT in c:\\users\\agk\\anaconda3\\lib\\site-packages (2.2.3)\n",
      "Requirement already satisfied: six>=1.8.0 in c:\\users\\agk\\anaconda3\\lib\\site-packages (from SAS7BDAT) (1.15.0)\n"
     ]
    }
   ],
   "source": [
    "!pip install SAS7BDAT\n",
    "import pandas as pd\n",
    "import numpy as np\n",
    "import statsmodels.api as sm\n",
    "import matplotlib.pyplot as plt\n",
    "import math\n",
    "from sas7bdat import SAS7BDAT"
   ]
  },
  {
   "cell_type": "code",
   "execution_count": 6,
   "metadata": {
    "id": "AJ7NZ637mhxP"
   },
   "outputs": [],
   "source": [
    "import sklearn\n",
    "from sklearn.model_selection import train_test_split, cross_val_score\n",
    "from sklearn.preprocessing import MinMaxScaler, MaxAbsScaler, StandardScaler\n",
    "\n",
    "from sklearn.feature_selection import SelectKBest, f_regression\n",
    "from sklearn.model_selection import KFold, StratifiedKFold\n",
    "\n",
    "from sklearn.linear_model import LinearRegression, BayesianRidge\n",
    "from sklearn.linear_model import Ridge\n",
    "from sklearn.tree import DecisionTreeRegressor\n",
    "from sklearn.ensemble import GradientBoostingRegressor\n",
    "from sklearn.neural_network import MLPRegressor\n",
    "\n",
    "from sklearn.pipeline import make_pipeline\n",
    "from sklearn import metrics\n",
    "\n",
    "import warnings\n",
    "from sklearn.exceptions import DataConversionWarning, ConvergenceWarning\n",
    "warnings.filterwarnings(action='ignore', category=DataConversionWarning)\n",
    "warnings.filterwarnings(action='ignore', category=ConvergenceWarning)\n"
   ]
  },
  {
   "cell_type": "code",
   "execution_count": 8,
   "metadata": {},
   "outputs": [
    {
     "data": {
      "text/plain": [
       "['redacted_coag_20141202_data1.sas7bdat',\n",
       " 'redacted_coag_20141202_data2.sas7bdat',\n",
       " 'redacted_coag_20141202_data3.sas7bdat',\n",
       " 'redacted_coag_20141202_data4.sas7bdat',\n",
       " 'redacted_coag_20141208_data5.sas7bdat',\n",
       " 'redacted_coag_20141208_data6.sas7bdat',\n",
       " 'redacted_coag_20141208_data7.sas7bdat']"
      ]
     },
     "execution_count": 8,
     "metadata": {},
     "output_type": "execute_result"
    }
   ],
   "source": [
    "import os\n",
    "os.listdir(\"//duhsnas-pri/dusom_dhc/Private/KarraPrivate/Warfarin Dosing Project/COAG_2016a/Data/Analysis\")"
   ]
  },
  {
   "cell_type": "code",
   "execution_count": 10,
   "metadata": {},
   "outputs": [
    {
     "data": {
      "text/plain": [
       "True"
      ]
     },
     "execution_count": 10,
     "metadata": {},
     "output_type": "execute_result"
    }
   ],
   "source": [
    "from os import path\n",
    "\n",
    "path.exists(\"//duhsnas-pri/dusom_dhc/Private/KarraPrivate/Warfarin Dosing Project/COAG_2016a/Data/Analysis/redacted_coag_20141202_data1.sas7bdat\")"
   ]
  },
  {
   "cell_type": "markdown",
   "metadata": {
    "id": "fjCiIfaHJT-F"
   },
   "source": [
    "# Load DataFrames from COAG"
   ]
  },
  {
   "cell_type": "code",
   "execution_count": 27,
   "metadata": {
    "id": "6DAHUhvoJT-G"
   },
   "outputs": [],
   "source": [
    "# Dataset 1\n",
    "data_path = '//duhsnas-pri/dusom_dhc/Private/KarraPrivate/Warfarin Dosing Project/COAG_2016a/Data/Analysis/redacted_coag_20141202_data1.sas7bdat'\n",
    "#foo = SAS7BDAT(data_path)\n",
    "#df1 = foo.to_data_frame()\n",
    "df1 = pd.read_sas(data_path)\n",
    "\n",
    "df1 = df1.dropna(subset=['maintain_dose'])\n",
    "df1 = df1.reset_index(drop=True)\n",
    "\n",
    "# Dataset 2\n",
    "data_path = '//duhsnas-pri/dusom_dhc/Private/KarraPrivate/Warfarin Dosing Project/COAG_2016a/Data/Analysis/redacted_coag_20141202_data2.sas7bdat'\n",
    "foo = SAS7BDAT(data_path)\n",
    "df2 = foo.to_data_frame()\n",
    "#df2 = pd.read_sas(data_path)\n",
    "\n",
    "df2 = df2.dropna()\n",
    "\n",
    "# Dataset 7\n",
    "data_path = '//duhsnas-pri/dusom_dhc/Private/KarraPrivate/Warfarin Dosing Project/COAG_2016a/Data/Analysis/redacted_coag_20141208_data7.sas7bdat'\n",
    "#foo = SAS7BDAT(data_path)\n",
    "#df7 = foo.to_data_frame()\n",
    "df7 = pd.read_sas(data_path)\n",
    "\n",
    "df7 = df7[['new_pid', 'SDAY', 'INR', 'ADOSE']]\n",
    "df7 = df7.sort_values(['new_pid', 'SDAY'], ascending=(True, True))\n",
    "df7 = df7.dropna()"
   ]
  },
  {
   "cell_type": "code",
   "execution_count": 28,
   "metadata": {},
   "outputs": [
    {
     "data": {
      "text/plain": [
       "<AxesSubplot:>"
      ]
     },
     "execution_count": 28,
     "metadata": {},
     "output_type": "execute_result"
    },
    {
     "data": {
      "image/png": "[encoded data removed]",
      "text/plain": [
       "<Figure size 432x288 with 1 Axes>"
      ]
     },
     "metadata": {
      "needs_background": "light"
     },
     "output_type": "display_data"
    }
   ],
   "source": [
    "import seaborn as sns\n",
    "\n",
    "sns.heatmap(df1.isnull(), cbar=False)\n"
   ]
  },
  {
   "cell_type": "code",
   "execution_count": 15,
   "metadata": {
    "id": "ZrmvENJYmhw-"
   },
   "outputs": [],
   "source": [
    "#fix races\n",
    "races= np.array([1, 2, 3, 4])\n",
    "race_names = ['AA_racec', 'Caucasian_racec', 'Asian_racec', 'Other_racec']\n",
    "for num in races:\n",
    "    df1[race_names[num - 1]] = (df1['racec']==(num)).astype('int64', copy=False)\n",
    "\n",
    "df1 = df1[['new_pid', 'Age','male','Weight','AA_racec', 'Caucasian_racec', 'Asian_racec', 'Other_racec', 'maintain_dose']]\n",
    "df1.rename(columns={'Weight':'weight'}, inplace = True)\n",
    "df1.rename(columns={'AA_racec':'AA'}, inplace = True)\n",
    "df1.rename(columns={'Caucasian_racec':'white'}, inplace = True)\n",
    "df1.rename(columns={'Asian_racec':'asian'}, inplace = True)\n",
    "df1.rename(columns={'Other_racec':'other_race'}, inplace = True)\n",
    "df1['age']=  (df1['Age'].map(lambda num: num // 10)).astype('int64', copy=False)\n",
    "df1['male']=  (df1['male']).astype('int64', copy=False)\n",
    "df1 =  df1.drop(['Age'], axis=1)"
   ]
  },
  {
   "cell_type": "code",
   "execution_count": 16,
   "metadata": {
    "id": "_vhTjGbgmhxF",
    "outputId": "81617d4b-4aed-42f9-c679-bf53bf56e5c2"
   },
   "outputs": [
    {
     "name": "stdout",
     "output_type": "stream",
     "text": [
      "(5185, 16)\n",
      "(4570, 16)\n"
     ]
    }
   ],
   "source": [
    "df7['PREV_INR'] = df7['INR'].shift(1)\n",
    "df7['PREV_DOSE'] = df7['ADOSE'].shift(1)\n",
    "df7['DAY_DIFF'] = df7['SDAY'] - df7['SDAY'].shift(1)\n",
    "df7['INR_DIFF'] = df7['INR'] - df7['INR'].shift(1)\n",
    "\n",
    "df_c = df7.merge(df1, left_on='new_pid', right_on='new_pid')\n",
    "print(df_c.shape)\n",
    "df_c = df_c.drop(df_c[df_c['DAY_DIFF'] < 1].index)\n",
    "print(df_c.shape)\n",
    "df_c = df_c.dropna()"
   ]
  },
  {
   "cell_type": "code",
   "execution_count": 17,
   "metadata": {
    "id": "xyi7Y3TGJT-I",
    "outputId": "4543e5b9-9b5b-4b38-fc53-7c3b3fc7d4dc"
   },
   "outputs": [
    {
     "name": "stdout",
     "output_type": "stream",
     "text": [
      "(4570, 16)\n",
      "(1244, 16)\n",
      "(776, 16)\n",
      "(775, 16)\n",
      "(613, 16)\n",
      "(609, 17)\n"
     ]
    }
   ],
   "source": [
    "df_c1 = df_c[df_c['SDAY'] < 11]\n",
    "df_c2 = df_c1[df_c1['SDAY'] > 6]\n",
    "df_c3 = df_c2[df_c2['DAY_DIFF'] < 6]\n",
    "df_c4 = df_c3.drop_duplicates(subset='new_pid', keep='first', inplace=False)\n",
    "\n",
    "df2 = df2.dropna(subset=['clinical_dose4_5'])\n",
    "df2_clean = df2[['new_pid', 'clinical_dose4_5']]\n",
    "s1 = df2.new_pid\n",
    "s2 = df_c4.new_pid\n",
    "s3 = s1[s1.isin(s2)]\n",
    "\n",
    "df_c5 = df_c4[df_c4.new_pid.isin(s3)]\n",
    "df_c5 = df_c5.merge(df2_clean, left_on='new_pid', right_on='new_pid')\n",
    "\n",
    "print(df_c.shape)\n",
    "print(df_c1.shape)\n",
    "print(df_c2.shape)\n",
    "print(df_c3.shape)\n",
    "print(df_c4.shape)\n",
    "print(df_c5.shape)"
   ]
  },
  {
   "cell_type": "code",
   "execution_count": 18,
   "metadata": {
    "id": "a6QNurqgmhxY"
   },
   "outputs": [],
   "source": [
    "X1 = df_c5[['male', 'AA', 'white',  'asian', 'other_race', 'age', 'weight']]\n",
    "y1 = df_c5[['maintain_dose']].values\n",
    "\n",
    "X2 = df_c5[['INR', 'SDAY', 'PREV_DOSE', 'male', 'AA', 'white',  'asian', 'other_race', 'age', 'weight']]\n",
    "y2 = df_c5[['maintain_dose']].values\n",
    "\n",
    "X3 = df_c5[['PREV_INR', 'INR', 'DAY_DIFF', 'PREV_DOSE', 'male', 'AA', 'white',  'asian', 'other_race', 'age', 'weight']]\n",
    "y3 = df_c5[['maintain_dose']].values\n",
    "\n",
    "X4 = df_c5[['INR', 'PREV_DOSE', 'male', 'AA', 'white',  'asian', 'other_race', 'age', 'weight']]\n",
    "y4 = df_c5[['maintain_dose']].values\n",
    "\n",
    "X5 = df_c5[['INR_DIFF', 'DAY_DIFF', 'PREV_DOSE', 'male', 'AA', 'white',  'asian', 'other_race', 'age', 'weight']]\n",
    "y5 = df_c5[['maintain_dose']].values\n"
   ]
  },
  {
   "cell_type": "code",
   "execution_count": 19,
   "metadata": {
    "id": "c74C4WOPJT-J"
   },
   "outputs": [],
   "source": [
    "def train_model(regressor, filename):\n",
    "    X_train, X_test, y_train, y_test = train_test_split(X1, y1, test_size=0.2, random_state=0, stratify=X1[['white', 'AA', 'asian', 'other_race']])\n",
    "    regressor.fit(X_train, y_train)\n",
    "    y_pred1 = regressor.predict(X_test).reshape(-1,1)\n",
    "    mse1 = metrics.mean_squared_error(y_test, y_pred1)\n",
    "    mae1 = metrics.mean_absolute_error(y_test, y_pred1)\n",
    "    \n",
    "    X_train, X_test, y_train, y_test = train_test_split(X2, y2, test_size=0.2, random_state=0, stratify=X2[['white', 'AA', 'asian', 'other_race']])\n",
    "    regressor.fit(X_train, y_train)\n",
    "    y_pred2 = regressor.predict(X_test).reshape(-1,1)\n",
    "    mse2 = metrics.mean_squared_error(y_test, y_pred2)\n",
    "    mae2 = metrics.mean_absolute_error(y_test, y_pred2)\n",
    "    \n",
    "    X_train, X_test, y_train, y_test = train_test_split(X3, y3, test_size=0.2, random_state=0, stratify=X3[['white', 'AA', 'asian', 'other_race']])\n",
    "    regressor.fit(X_train, y_train)\n",
    "    y_pred3 = regressor.predict(X_test).reshape(-1,1)\n",
    "    mse3 = metrics.mean_squared_error(y_test, y_pred3)\n",
    "    mae3 = metrics.mean_absolute_error(y_test, y_pred3)\n",
    "    \n",
    "    X_train, X_test, y_train, y_test = train_test_split(X4, y4, test_size=0.2, random_state=0, stratify=X4[['white', 'AA', 'asian', 'other_race']])\n",
    "    regressor.fit(X_train, y_train)\n",
    "    y_pred4 = regressor.predict(X_test).reshape(-1,1)\n",
    "    mse4 = metrics.mean_squared_error(y_test, y_pred4)\n",
    "    mae4 = metrics.mean_absolute_error(y_test, y_pred4)\n",
    "    \n",
    "    X_train, X_test, y_train, y_test = train_test_split(X5, y5, test_size=0.2, random_state=0, stratify=X5[['white', 'AA', 'asian', 'other_race']])\n",
    "    regressor.fit(X_train, y_train)\n",
    "    y_pred5 = regressor.predict(X_test).reshape(-1,1)\n",
    "    mse5 = metrics.mean_squared_error(y_test, y_pred5)\n",
    "    mae5 = metrics.mean_absolute_error(y_test, y_pred5)\n",
    "    \n",
    "    y_pred = np.concatenate((y_pred1, y_pred2, y_pred3, y_pred4, y_pred5), 1)\n",
    "    #np.savetxt(filename, y_pred, delimiter=',', header='feature1, feature2, feature3, feature4, feature5')\n",
    "    \n",
    "    mse = [[mse1, mse2, mse3, mse4, mse5]]\n",
    "    #np.savetxt('mse' + filename, mse, delimiter=',', header='feature1, feature2, feature3, feature4, feature5')\n",
    "    \n",
    "    mae = [[mae1, mae2, mae3, mae4, mae5]]\n",
    "    #np.savetxt('mae' + filename, mae, delimiter=',', header='feature1, feature2, feature3, feature4, feature5')\n",
    "    \n",
    "    print(mae)"
   ]
  },
  {
   "cell_type": "markdown",
   "metadata": {
    "id": "7aNWq5BwJT-L"
   },
   "source": [
    "## Linear Regression"
   ]
  },
  {
   "cell_type": "code",
   "execution_count": 20,
   "metadata": {
    "id": "FmepouXpmhyY",
    "outputId": "1310e172-7814-460d-ec7a-7c62d6ee81c1"
   },
   "outputs": [
    {
     "name": "stdout",
     "output_type": "stream",
     "text": [
      "[[1.877268117943685, 1.2520043801330538, 1.2417163175479091, 1.2116642508849034, 1.3853815938276839]]\n"
     ]
    }
   ],
   "source": [
    "linear = LinearRegression()\n",
    "\n",
    "train_model(linear, 'linear.csv')"
   ]
  },
  {
   "cell_type": "markdown",
   "metadata": {
    "id": "VMTB8x3AJT-L"
   },
   "source": [
    "## Ridge Regression"
   ]
  },
  {
   "cell_type": "code",
   "execution_count": 21,
   "metadata": {
    "id": "HlWDRP_pJT-L",
    "outputId": "1310e172-7814-460d-ec7a-7c62d6ee81c1"
   },
   "outputs": [
    {
     "name": "stdout",
     "output_type": "stream",
     "text": [
      "[[1.8772891183914664, 1.2519942295497806, 1.2417046894369395, 1.2116568386585724, 1.3853725438464168]]\n"
     ]
    }
   ],
   "source": [
    "ridge = Ridge(alpha = .01)\n",
    "\n",
    "train_model(ridge,'ridge.csv')\n"
   ]
  },
  {
   "cell_type": "markdown",
   "metadata": {
    "id": "sQv6QD4EJT-M"
   },
   "source": [
    "## Bayesian Ridge Regression"
   ]
  },
  {
   "cell_type": "code",
   "execution_count": 22,
   "metadata": {
    "id": "wkn9Ln_XJT-M",
    "outputId": "1310e172-7814-460d-ec7a-7c62d6ee81c1"
   },
   "outputs": [
    {
     "name": "stdout",
     "output_type": "stream",
     "text": [
      "[[1.8978260633535524, 1.2468400448024244, 1.2346670437464786, 1.2083879417086236, 1.3763077021468246]]\n"
     ]
    }
   ],
   "source": [
    "bayesian_ridge = BayesianRidge(tol=1e-6)\n",
    "\n",
    "train_model(bayesian_ridge, 'bayesian_ridge.csv')\n"
   ]
  },
  {
   "cell_type": "markdown",
   "metadata": {
    "id": "vTtMbFFMJT-M"
   },
   "source": [
    "## Decision Tree Regression"
   ]
  },
  {
   "cell_type": "code",
   "execution_count": 23,
   "metadata": {
    "id": "RjVV6yPvJT-N",
    "outputId": "1310e172-7814-460d-ec7a-7c62d6ee81c1"
   },
   "outputs": [
    {
     "name": "stdout",
     "output_type": "stream",
     "text": [
      "[[1.9715580153723054, 1.2804165143131827, 1.2944603948716527, 1.2804165143131827, 1.3651484109081917]]\n"
     ]
    }
   ],
   "source": [
    "decision_tree = DecisionTreeRegressor(random_state=0, max_depth = 3)\n",
    "\n",
    "train_model(decision_tree, 'decision_tree.csv')\n"
   ]
  },
  {
   "cell_type": "markdown",
   "metadata": {
    "id": "5HKKcrT8JT-N"
   },
   "source": [
    "## Gradient Boosting Regression"
   ]
  },
  {
   "cell_type": "code",
   "execution_count": null,
   "metadata": {
    "id": "SsuX1wzvJT-N",
    "outputId": "1310e172-7814-460d-ec7a-7c62d6ee81c1"
   },
   "outputs": [
    {
     "name": "stdout",
     "output_type": "stream",
     "text": [
      "[[2.036616763170433, 1.0468551476404124, 1.0350493329337986, 1.0613130576332839, 1.2580173860052386]]\n"
     ]
    }
   ],
   "source": [
    "gradient_boosting = GradientBoostingRegressor(random_state=0)\n",
    "\n",
    "train_model(gradient_boosting, 'gradient_boosting.csv')\n"
   ]
  },
  {
   "cell_type": "markdown",
   "metadata": {
    "id": "qOm5OPIsJT-O"
   },
   "source": [
    "## Multilayer Perceptron Regression"
   ]
  },
  {
   "cell_type": "code",
   "execution_count": null,
   "metadata": {
    "id": "qSyWvTlFJT-O",
    "outputId": "1310e172-7814-460d-ec7a-7c62d6ee81c1"
   },
   "outputs": [
    {
     "name": "stdout",
     "output_type": "stream",
     "text": [
      "[[1.8978525990178656, 1.2022340528317859, 1.044677724532586, 1.066567433819926, 1.2015276642254018]]\n"
     ]
    }
   ],
   "source": [
    "multilayer_perceptron = MLPRegressor(random_state=0, hidden_layer_sizes=[50,25], max_iter = 10000, activation = 'relu', solver = 'lbfgs')\n",
    "\n",
    "train_model(multilayer_perceptron, 'multilayer_perceptron.csv')\n"
   ]
  },
  {
   "cell_type": "code",
   "execution_count": null,
   "metadata": {
    "id": "co33EL15JT-O"
   },
   "outputs": [],
   "source": []
  }
 ],
 "metadata": {
  "colab": {
   "name": "COAG_Models_Final.ipynb",
   "provenance": []
  },
  "kernelspec": {
   "display_name": "Python 3",
   "language": "python",
   "name": "python3"
  },
  "language_info": {
   "codemirror_mode": {
    "name": "ipython",
    "version": 3
   },
   "file_extension": ".py",
   "mimetype": "text/x-python",
   "name": "python",
   "nbconvert_exporter": "python",
   "pygments_lexer": "ipython3",
   "version": "3.8.5"
  }
 },
 "nbformat": 4,
 "nbformat_minor": 1
}
