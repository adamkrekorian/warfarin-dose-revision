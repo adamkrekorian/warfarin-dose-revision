{
 "cells": [
  {
   "cell_type": "code",
   "execution_count": 1,
   "metadata": {
    "colab": {},
    "colab_type": "code",
    "id": "ziH4yl7Fmhur"
   },
   "outputs": [],
   "source": [
    "#!pip install SAS7BDAT\n",
    "import pandas as pd\n",
    "import numpy as np\n",
    "import statsmodels.api as sm\n",
    "import statistics as stats\n",
    "import matplotlib.pyplot as plt\n",
    "import math\n",
    "from sas7bdat import SAS7BDAT\n",
    "import scipy"
   ]
  },
  {
   "cell_type": "code",
   "execution_count": 2,
   "metadata": {
    "colab": {},
    "colab_type": "code",
    "id": "AJ7NZ637mhxP"
   },
   "outputs": [],
   "source": [
    "import sklearn\n",
    "from sklearn.model_selection import train_test_split, cross_val_score\n",
    "from sklearn.preprocessing import MinMaxScaler, MaxAbsScaler, StandardScaler\n",
    "\n",
    "from sklearn.feature_selection import SelectKBest, f_regression\n",
    "from sklearn.model_selection import KFold, StratifiedKFold\n",
    "\n",
    "from sklearn.linear_model import LinearRegression, BayesianRidge\n",
    "from sklearn.linear_model import Ridge, ARDRegression\n",
    "from sklearn.tree import DecisionTreeRegressor\n",
    "from sklearn.ensemble import GradientBoostingRegressor\n",
    "from sklearn.neural_network import MLPRegressor\n",
    "\n",
    "from sklearn.pipeline import make_pipeline\n",
    "from sklearn import metrics\n",
    "\n",
    "import warnings\n",
    "from sklearn.exceptions import DataConversionWarning, ConvergenceWarning\n",
    "warnings.filterwarnings(action='ignore', category=DataConversionWarning)\n",
    "warnings.filterwarnings(action='ignore', category=ConvergenceWarning)\n"
   ]
  },
  {
   "cell_type": "markdown",
   "metadata": {},
   "source": [
    "# Load DataFrames from COAG"
   ]
  },
  {
   "cell_type": "code",
   "execution_count": 3,
   "metadata": {},
   "outputs": [],
   "source": [
    "# Dataset 1\n",
    "data_path = '/Users/Boyla/Desktop/CollinsLab/OtherProjects/2020 Idea2Health/Prelim Data Analysis/COAG_2016a/Data/Analysis/redacted_coag_20141202_data1.sas7bdat'\n",
    "foo = SAS7BDAT(data_path)\n",
    "df1 = foo.to_data_frame()\n",
    "dfall = df1.copy()\n",
    "\n",
    "df1 = df1.dropna(subset=['maintain_dose'])\n",
    "df1 = df1.reset_index(drop=True)\n",
    "\n",
    "# Dataset 2\n",
    "data_path = '/Users/Boyla/Desktop/CollinsLab/OtherProjects/2020 Idea2Health/Prelim Data Analysis/COAG_2016a/Data/Analysis/redacted_coag_20141202_data2.sas7bdat'\n",
    "#data_path = '/Users/adamkrekorian/Desktop/Collins_Lab/Data/COAG_2016a/Data/Analysis/redacted_coag_20141202_data2.sas7bdat'\n",
    "foo = SAS7BDAT(data_path)\n",
    "df2 = foo.to_data_frame()\n",
    "df2 = df2.dropna()\n",
    "\n",
    "# Dataset 7\n",
    "data_path = '/Users/Boyla/Desktop/CollinsLab/OtherProjects/2020 Idea2Health/Prelim Data Analysis/COAG_2016a/Data/Analysis/redacted_coag_20141208_data7.sas7bdat'\n",
    "#data_path = '/Users/adamkrekorian/Desktop/Collins_Lab/Data/COAG_2016a/Data/Analysis/redacted_coag_20141208_data7.sas7bdat'\n",
    "foo = SAS7BDAT(data_path)\n",
    "df7 = foo.to_data_frame()\n",
    "\n",
    "df7 = df7[['new_pid', 'SDAY', 'INR', 'ADOSE']]\n",
    "df7 = df7.sort_values(['new_pid', 'SDAY'], ascending=(True, True))\n",
    "df7 = df7.dropna()"
   ]
  },
  {
   "cell_type": "code",
   "execution_count": null,
   "metadata": {},
   "outputs": [],
   "source": []
  },
  {
   "cell_type": "code",
   "execution_count": 4,
   "metadata": {
    "colab": {},
    "colab_type": "code",
    "id": "ZrmvENJYmhw-"
   },
   "outputs": [],
   "source": [
    "#fix races\n",
    "races= np.array([1, 2, 3, 4])\n",
    "race_names = ['AA_racec', 'Caucasian_racec', 'Asian_racec', 'Other_racec']\n",
    "for num in races:\n",
    "    df1[race_names[num - 1]] = (df1['racec']==(num)).astype('int64', copy=False)\n",
    "\n",
    "df1 = df1[['new_pid', 'Age','male','Weight','AA_racec', 'Caucasian_racec', 'Asian_racec', 'Other_racec', 'maintain_dose']]\n",
    "df1.rename(columns={'Weight':'weight'}, inplace = True)\n",
    "df1.rename(columns={'AA_racec':'AA'}, inplace = True)\n",
    "df1.rename(columns={'Caucasian_racec':'white'}, inplace = True)\n",
    "df1.rename(columns={'Asian_racec':'asian'}, inplace = True)\n",
    "df1.rename(columns={'Other_racec':'other_race'}, inplace = True)\n",
    "df1['age']=  (df1['Age'].map(lambda num: num // 10)).astype('int64', copy=False)\n",
    "df1['male']=  (df1['male']).astype('int64', copy=False)\n",
    "df1 =  df1.drop(['Age'], axis=1)"
   ]
  },
  {
   "cell_type": "code",
   "execution_count": 5,
   "metadata": {
    "colab": {},
    "colab_type": "code",
    "id": "_vhTjGbgmhxF",
    "outputId": "81617d4b-4aed-42f9-c679-bf53bf56e5c2"
   },
   "outputs": [
    {
     "name": "stdout",
     "output_type": "stream",
     "text": [
      "(5185, 26)\n",
      "(4570, 26)\n",
      "3        NaN\n",
      "2        0.0\n",
      "4        2.0\n",
      "5        0.0\n",
      "1       10.0\n",
      "8      -11.0\n",
      "9        0.0\n",
      "10      -3.0\n",
      "11       4.0\n",
      "12       0.0\n",
      "6       -4.0\n",
      "15      -6.0\n",
      "13       7.0\n",
      "14      -7.0\n",
      "16       0.0\n",
      "17       3.0\n",
      "18       3.0\n",
      "22      -1.0\n",
      "24       0.0\n",
      "30      -2.0\n",
      "25       2.0\n",
      "27       0.0\n",
      "31       1.0\n",
      "28      -1.0\n",
      "26       0.0\n",
      "29       1.0\n",
      "36      -1.0\n",
      "38      -1.0\n",
      "33       0.0\n",
      "37      -1.0\n",
      "        ... \n",
      "9335     4.0\n",
      "9336    -1.0\n",
      "9337     0.0\n",
      "9330     1.0\n",
      "9338     0.0\n",
      "9339    -1.0\n",
      "9346    -4.0\n",
      "9341     6.0\n",
      "9343    -4.5\n",
      "9347     0.0\n",
      "9349     0.0\n",
      "9348     0.5\n",
      "9351    -2.0\n",
      "9356     0.0\n",
      "9359     0.0\n",
      "9358    -3.0\n",
      "9354    -0.5\n",
      "9352     1.5\n",
      "9363     0.0\n",
      "9367     1.0\n",
      "9360     0.0\n",
      "9368     0.0\n",
      "9361    -2.5\n",
      "9364     2.5\n",
      "9376     2.5\n",
      "9372     4.5\n",
      "9378     8.0\n",
      "9371   -10.0\n",
      "9377     5.0\n",
      "9379    -5.0\n",
      "Name: DELTA_INR, Length: 6511, dtype: float64\n"
     ]
    }
   ],
   "source": [
    "df7['PREV_INR'] = df7['INR'].shift(1)                         #INR_(t-1)\n",
    "df7['PREV_DOSE'] = df7['ADOSE'].shift(1)                      #Dose(t-1)\n",
    "df7['PREV1_DOSE'] = df7['ADOSE'].shift(2)                      #Dose(t-2)\n",
    "df7['PREV2_DOSE'] = df7['ADOSE'].shift(3)                      #Dose(t-3)\n",
    "\n",
    "df7['DAY_DIFF'] = df7['SDAY'] - df7['SDAY'].shift(1)          #Day_t - Day_(t-1)\n",
    "df7['INR_DIFF'] = df7['INR'] - df7['INR'].shift(1)            #INR_t - Day_(t-1)\n",
    "\n",
    "df7['NEXT_ADOSE'] = df7['ADOSE'].shift(-1)                    #Dose_(t+1)\n",
    "df7['NEXT_INR'] = df7['INR'].shift(-1)                        #INR_(t+1)\n",
    "\n",
    "df7['NEXTNEXT_ADOSE'] = df7['ADOSE'].shift(-2)                #Dose(t+2)\n",
    "df7['NEXTNEXT_INR'] = df7['INR'].shift(-2)                    #INR(t+2)\n",
    "\n",
    "df7['DAY1_DIFF'] = df7['SDAY'].shift(-1) - df7['SDAY']           #Day_(t+1) - Day_(t)\n",
    "df7['DAY2_DIFF'] = df7['SDAY'].shift(-2) - df7['SDAY'].shift(-1) #Day_(t+2) - Day_(t+1)\n",
    "\n",
    "df7['DELTA_DOSE'] =  df7['INR'] - df7['NEXT_INR'] \n",
    "df7['DELTA_INR'] =  df7['ADOSE'] - df7['PREV_DOSE'] \n",
    "\n",
    "df_c = df7.merge(df1, left_on='new_pid', right_on='new_pid')\n",
    "print(df_c.shape)\n",
    "df_c = df_c.drop(df_c[df_c['DAY_DIFF'] < 1].index)\n",
    "print(df_c.shape)\n",
    "df_c = df_c.dropna()\n",
    "\n",
    "print(df7['DELTA_INR'] )\n"
   ]
  },
  {
   "cell_type": "code",
   "execution_count": 6,
   "metadata": {},
   "outputs": [
    {
     "name": "stdout",
     "output_type": "stream",
     "text": [
      "(4570, 26)\n",
      "(1244, 26)\n",
      "(776, 26)\n",
      "(775, 26)\n",
      "(613, 26)\n",
      "(609, 27)\n"
     ]
    }
   ],
   "source": [
    "df_c1 = df_c[df_c['SDAY'] < 11]\n",
    "df_c2 = df_c1[df_c1['SDAY'] > 6]\n",
    "df_c3 = df_c2[df_c2['DAY_DIFF'] < 6]\n",
    "df_c4 = df_c3.drop_duplicates(subset='new_pid', keep='first', inplace=False)\n",
    "\n",
    "df2 = df2.dropna(subset=['clinical_dose4_5'])\n",
    "df2_clean = df2[['new_pid', 'clinical_dose4_5']]\n",
    "s1 = df2.new_pid\n",
    "s2 = df_c4.new_pid\n",
    "s3 = s1[s1.isin(s2)]\n",
    "\n",
    "df_c5 = df_c4[df_c4.new_pid.isin(s3)]\n",
    "df_c5 = df_c5.merge(df2_clean, left_on='new_pid', right_on='new_pid')\n",
    "\n",
    "print(df_c.shape)\n",
    "print(df_c1.shape)\n",
    "print(df_c2.shape)\n",
    "print(df_c3.shape)\n",
    "print(df_c4.shape)\n",
    "print(df_c5.shape)"
   ]
  },
  {
   "cell_type": "code",
   "execution_count": 7,
   "metadata": {
    "colab": {},
    "colab_type": "code",
    "id": "a6QNurqgmhxY"
   },
   "outputs": [],
   "source": [
    "#Clinical\n",
    "X1 = df_c5[['male', 'AA', 'white',  'asian', 'other_race', 'age', 'weight']]\n",
    "y1 = df_c5[['maintain_dose']].values\n",
    "\n",
    "#Single INR1\n",
    "X2 = df_c5[['PREV_DOSE','INR', 'male', 'AA', 'white',  'asian', 'other_race', 'age', 'weight']]\n",
    "y2 = df_c5[['maintain_dose']].values\n",
    "\n",
    "X3 = df_c5[['PREV1_DOSE','PREV_INR','PREV_DOSE','INR','male', 'AA', 'white',  'asian', 'other_race', 'age', 'weight']]\n",
    "y3 = df_c5[['maintain_dose']].values\n",
    "\n",
    "#Longitudinal INR2\n",
    "X4 = df_c5[['PREV_DOSE','INR','ADOSE','NEXT_INR', 'male', 'AA', 'white',  'asian', 'other_race', 'age', 'weight']]\n",
    "y4 =  df_c5[['maintain_dose']].values\n",
    "\n",
    "X5 = df_c5[['ADOSE','NEXT_INR', 'male', 'AA', 'white',  'asian', 'other_race', 'age', 'weight']]\n",
    "y5 =  df_c5[['maintain_dose']].values\n",
    "\n",
    "X6 = df_c5[['ADOSE','NEXT_INR','NEXT_ADOSE','NEXTNEXT_INR', 'male', 'AA', 'white',  'asian', 'other_race', 'age', 'weight']]\n",
    "y6 = df_c5[['maintain_dose']].values\n",
    "\n",
    "df_c5.to_csv('prunedCOAGDataset.csv',index=False)\n",
    "\n",
    "indices = np.arange(y1.shape[0])"
   ]
  },
  {
   "cell_type": "code",
   "execution_count": 8,
   "metadata": {},
   "outputs": [],
   "source": [
    "def train_model(regressor, filename):\n",
    "   \n",
    "    X_train, X_test,y_train, y_test,indx1,idx2 = train_test_split(X1, y1, indices, test_size=0.2, random_state=0, stratify=X1[['white', 'AA', 'asian', 'other_race']])\n",
    "    regressor.fit(X_train, y_train)\n",
    "    y_pred1 = regressor.predict(X_test).reshape(-1,1)\n",
    "    mse1 = metrics.mean_squared_error(y_test, y_pred1)\n",
    "    mae1 = metrics.mean_absolute_error(y_test, y_pred1)\n",
    "    \n",
    "    X_train, X_test, y_train, y_test,indx1,idx2 = train_test_split(X2, y2,  indices,test_size=0.2, random_state=0, stratify=X2[['white', 'AA', 'asian', 'other_race']])\n",
    "    regressor.fit(X_train, y_train)\n",
    "    y_pred2 = regressor.predict(X_test).reshape(-1,1)\n",
    "    mse2 = metrics.mean_squared_error(y_test, y_pred2)\n",
    "    mae2 = metrics.mean_absolute_error(y_test, y_pred2)\n",
    "\n",
    "    X_train, X_test, y_train, y_test,indx1,idx2 = train_test_split(X3, y3,  indices,test_size=0.2, random_state=0, stratify=X3[['white', 'AA', 'asian', 'other_race']])\n",
    "    regressor.fit(X_train, y_train)\n",
    "    y_pred3 = regressor.predict(X_test).reshape(-1,1)\n",
    "    mse3 = metrics.mean_squared_error(y_test, y_pred3)\n",
    "    mae3 = metrics.mean_absolute_error(y_test, y_pred3)\n",
    "      \n",
    "    X_train, X_test, y_train, y_test,indx1,idx2 = train_test_split(X4, y4,  indices,test_size=0.2, random_state=0, stratify=X4[['white', 'AA', 'asian', 'other_race']])\n",
    "    regressor.fit(X_train, y_train)\n",
    "    y_pred4 = regressor.predict(X_test).reshape(-1,1)\n",
    "    mse4 = metrics.mean_squared_error(y_test, y_pred4)\n",
    "    mae4 = metrics.mean_absolute_error(y_test, y_pred4)\n",
    "    \n",
    "    X_train, X_test, y_train, y_test,indx1,idx2 = train_test_split(X5, y5,  indices,test_size=0.2, random_state=0, stratify=X5[['white', 'AA', 'asian', 'other_race']])\n",
    "    regressor.fit(X_train, y_train)\n",
    "    y_pred5 = regressor.predict(X_test).reshape(-1,1)\n",
    "    mse5 = metrics.mean_squared_error(y_test, y_pred5)\n",
    "    mae5 = metrics.mean_absolute_error(y_test, y_pred5)\n",
    "\n",
    "    X_train, X_test, y_train, y_test,indx1,idx2 = train_test_split(X6, y6,  indices,test_size=0.2, random_state=0, stratify=X6[['white', 'AA', 'asian', 'other_race']])\n",
    "    regressor.fit(X_train, y_train)\n",
    "    y_pred6 = regressor.predict(X_test).reshape(-1,1)\n",
    "    mse6 = metrics.mean_squared_error(y_test, y_pred6)\n",
    "    mae6 = metrics.mean_absolute_error(y_test, y_pred6)\n",
    "\n",
    "    m = np.reshape(idx2,(idx2.shape[0],1))\n",
    "\n",
    "    y_pred = np.concatenate((y_pred1, y_pred2, y_pred3, y_pred4, y_pred5,y_pred6, m), 1)\n",
    "    np.savetxt(filename, y_pred, delimiter=',', header='feature1, feature2, feature3, feature4, feature5, feature6, pat_idx')  \n",
    "    \n",
    "    mse = [[mse1, mse2, mse3, mse4, mse5, mse6]]\n",
    "    np.savetxt('mse' + filename, mse, delimiter=',', header='feature1, feature2, feature3, feature4, feature5, feature6')\n",
    "    \n",
    "    mae = [[mae1, mae2, mae3, mae4, mae5, mae6]]\n",
    "    np.savetxt('mae' + filename, mae, delimiter=',', header='feature1, feature2, feature3, feature4, feature5, feature6')\n",
    "    \n",
    "    print(mse)\n",
    "    print(mae)\n",
    "    \n",
    "    return [mse, mae, y_pred2,y_pred4, y_pred6]"
   ]
  },
  {
   "cell_type": "markdown",
   "metadata": {},
   "source": [
    "## Linear Regression"
   ]
  },
  {
   "cell_type": "code",
   "execution_count": 9,
   "metadata": {
    "colab": {},
    "colab_type": "code",
    "id": "FmepouXpmhyY",
    "outputId": "1310e172-7814-460d-ec7a-7c62d6ee81c1"
   },
   "outputs": [
    {
     "name": "stdout",
     "output_type": "stream",
     "text": [
      "[[5.676168728586408, 3.26694572387017, 3.175549959169714, 1.3562377211754901, 1.4339306130981386, 1.1926945726081661]]\n",
      "[[1.8772681179436852, 1.2116642508849031, 1.2101920536794764, 0.8535572689314957, 0.879979542443707, 0.8247033637268637]]\n"
     ]
    }
   ],
   "source": [
    "linear = LinearRegression()\n",
    "\n",
    "mseLR, maeLR,lr_pred2,lr_pred4,lr_pred6 = train_model(linear, 'linear.csv')"
   ]
  },
  {
   "cell_type": "markdown",
   "metadata": {},
   "source": [
    "## Ridge Regression"
   ]
  },
  {
   "cell_type": "code",
   "execution_count": 10,
   "metadata": {
    "colab": {},
    "colab_type": "code",
    "id": "FmepouXpmhyY",
    "outputId": "1310e172-7814-460d-ec7a-7c62d6ee81c1"
   },
   "outputs": [
    {
     "name": "stdout",
     "output_type": "stream",
     "text": [
      "[[5.676231045155415, 3.2667911894776, 3.1753885667576176, 1.3562367947042195, 1.4339310665178062, 1.1926663077937936]]\n",
      "[[1.8772891183914664, 1.2116568386585724, 1.2101847297433226, 0.8535567062092608, 0.879981354600955, 0.824697517810096]]\n"
     ]
    }
   ],
   "source": [
    "ridge = Ridge(alpha = .01)\n",
    "\n",
    "mseRR, maeRR,rr_pred2,rr_pred4,rr_pred6 = train_model(ridge,'ridge.csv')\n"
   ]
  },
  {
   "cell_type": "markdown",
   "metadata": {},
   "source": [
    "## Bayesian Ridge Regression"
   ]
  },
  {
   "cell_type": "code",
   "execution_count": 11,
   "metadata": {
    "colab": {},
    "colab_type": "code",
    "id": "FmepouXpmhyY",
    "outputId": "1310e172-7814-460d-ec7a-7c62d6ee81c1"
   },
   "outputs": [
    {
     "name": "stdout",
     "output_type": "stream",
     "text": [
      "[[5.768085378252795, 3.1831645156988864, 3.0617386020030337, 1.3564365886457772, 1.4356071163511823, 1.1743749127441985]]\n",
      "[[1.8978260609498565, 1.2083879417097256, 1.2054069297985408, 0.8536999784624847, 0.8814402521035419, 0.8188228941913901]]\n"
     ]
    }
   ],
   "source": [
    "bayesian_ridge = BayesianRidge(tol=1e-6)\n",
    "\n",
    "mseBRR, maeBRR,BRR_pred2,BRR_pred4,BRR_pred6 = train_model(bayesian_ridge, 'bayesian_ridge.csv')"
   ]
  },
  {
   "cell_type": "markdown",
   "metadata": {},
   "source": [
    "## Decision Tree Regression"
   ]
  },
  {
   "cell_type": "code",
   "execution_count": 12,
   "metadata": {
    "colab": {},
    "colab_type": "code",
    "id": "FmepouXpmhyY",
    "outputId": "1310e172-7814-460d-ec7a-7c62d6ee81c1"
   },
   "outputs": [
    {
     "name": "stdout",
     "output_type": "stream",
     "text": [
      "[[6.262244715045548, 2.998870095018675, 3.1282697862782136, 2.163462998975972, 2.114683261299243, 2.117274261219898]]\n",
      "[[1.9715580153723054, 1.2804165143131825, 1.2944603948716527, 1.1154056448933658, 1.077212317542726, 1.0673909539383433]]\n"
     ]
    }
   ],
   "source": [
    "decision_tree = DecisionTreeRegressor(random_state=0, max_depth = 3)\n",
    "\n",
    "mseDTR, maeDTR,DT_pred2,DT_pred4,DT_pred6 = train_model(decision_tree, 'decision_tree.csv')\n"
   ]
  },
  {
   "cell_type": "markdown",
   "metadata": {},
   "source": [
    "## Gradient Boosting Regression"
   ]
  },
  {
   "cell_type": "code",
   "execution_count": 13,
   "metadata": {
    "colab": {},
    "colab_type": "code",
    "id": "FmepouXpmhyY",
    "outputId": "1310e172-7814-460d-ec7a-7c62d6ee81c1"
   },
   "outputs": [
    {
     "name": "stdout",
     "output_type": "stream",
     "text": [
      "[[6.488077578310072, 2.031452402091807, 1.9797191466773452, 1.2877332357901832, 1.3135479140062472, 1.0790426983251402]]\n",
      "[[2.036616763170433, 1.0606226560736933, 1.063512477172682, 0.8099339569214594, 0.8360704196731465, 0.7952140150279489]]\n"
     ]
    }
   ],
   "source": [
    "gradient_boosting = GradientBoostingRegressor(random_state=0)\n",
    "\n",
    "mseGBR, maeGBR,GBR_pred2,GBR_pred4,GBR_pred6 = train_model(gradient_boosting, 'gradient_boosting.csv')\n"
   ]
  },
  {
   "cell_type": "code",
   "execution_count": 14,
   "metadata": {},
   "outputs": [
    {
     "name": "stdout",
     "output_type": "stream",
     "text": [
      "[[5.70005780769294, 3.1430151601427294, 3.121513611097507, 1.2968142659354711, 1.4209190667548572, 1.1657651482342168]]\n",
      "[[1.8857264747507905, 1.1971330315858555, 1.1971427317479741, 0.8436653922704019, 0.8755753942248116, 0.8201746296947087]]\n"
     ]
    }
   ],
   "source": [
    "ard_regressor = ARDRegression(compute_score=True)\n",
    "\n",
    "mseARD, maeARD,ARD_pred2,ARD_pred4,ARD_pred6 = train_model(ard_regressor, 'ard.csv')\n"
   ]
  },
  {
   "cell_type": "markdown",
   "metadata": {},
   "source": [
    "## Multilayer Perceptron Regression"
   ]
  },
  {
   "cell_type": "code",
   "execution_count": 15,
   "metadata": {
    "colab": {},
    "colab_type": "code",
    "id": "FmepouXpmhyY",
    "outputId": "1310e172-7814-460d-ec7a-7c62d6ee81c1"
   },
   "outputs": [
    {
     "name": "stdout",
     "output_type": "stream",
     "text": [
      "[[5.75495992516803, 2.070162881937624, 2.0990959059476104, 1.515412977461764, 1.5601570837153154, 1.231687949532037]]\n",
      "[[1.8978525989664325, 1.0913074357964714, 1.1082687268728089, 0.9128787631264917, 0.8962687135851097, 0.8186650072103047]]\n"
     ]
    }
   ],
   "source": [
    "multilayer_perceptron = MLPRegressor(random_state=0, hidden_layer_sizes=[50,25], max_iter = 10000, activation = 'relu', solver = 'lbfgs')\n",
    "mseMLPR, maeMLPR,mlp_pred2,mlp_pred4,mlp_pred6 = train_model(multilayer_perceptron, 'multilayer_perceptron.csv')\n"
   ]
  },
  {
   "cell_type": "markdown",
   "metadata": {},
   "source": [
    "## Gage Model"
   ]
  },
  {
   "cell_type": "code",
   "execution_count": 16,
   "metadata": {},
   "outputs": [],
   "source": [
    "X_train, X_test,y_train, y_test,indx1,idx2 = train_test_split(df_c5, y1, indices, test_size=0.2, random_state=0, stratify=X1[['white', 'AA', 'asian', 'other_race']])\n",
    "\n",
    "gage_mse = metrics.mean_squared_error(X_test.maintain_dose, X_test.clinical_dose4_5)\n",
    "gage_mae = metrics.mean_absolute_error(X_test.maintain_dose, X_test.clinical_dose4_5)"
   ]
  },
  {
   "cell_type": "code",
   "execution_count": 34,
   "metadata": {
    "scrolled": true
   },
   "outputs": [
    {
     "data": {
      "text/plain": [
       "<Figure size 432x288 with 0 Axes>"
      ]
     },
     "metadata": {},
     "output_type": "display_data"
    },
    {
     "data": {
      "image/png": "[encoded data removed]",
      "text/plain": [
       "<Figure size 432x288 with 1 Axes>"
      ]
     },
     "metadata": {
      "needs_background": "light"
     },
     "output_type": "display_data"
    },
    {
     "data": {
      "text/plain": [
       "<Figure size 432x288 with 0 Axes>"
      ]
     },
     "metadata": {},
     "output_type": "display_data"
    },
    {
     "data": {
      "image/png": "[encoded data removed]",
      "text/plain": [
       "<Figure size 432x288 with 1 Axes>"
      ]
     },
     "metadata": {
      "needs_background": "light"
     },
     "output_type": "display_data"
    }
   ],
   "source": [
    "x = np.arange(6)\n",
    "\n",
    "plt.figure()\n",
    "fig, ax = plt.subplots()\n",
    "plt.plot(np.sqrt([mseLR[0][0],mseRR[0][0],mseBRR[0][0],mseDTR[0][0],mseGBR[0][0],mseMLPR[0][0]]),'o',label= 'Clinical')\n",
    "plt.plot(np.sqrt([mseLR[0][1],mseRR[0][1],mseBRR[0][1],mseDTR[0][1],mseGBR[0][1],mseMLPR[0][1]]),'d',label= 'Single INR')\n",
    "plt.plot(np.sqrt([mseLR[0][3],mseRR[0][3],mseBRR[0][3],mseDTR[0][3],mseGBR[0][3],mseMLPR[0][3]]),'*',label= 'Longitudinal INR')\n",
    "plt.axhline(y=np.sqrt(gage_mse), color='k', linestyle='--',label='Baseline')\n",
    "plt.grid(True)\n",
    "ax.set_xticks(x)\n",
    "ax.set_xticklabels(['L','R','BR','DT','GB','MLP'],fontsize = 13)\n",
    "\n",
    "plt.xlabel('Model',fontsize=15)\n",
    "plt.ylabel('Dose (mg/day)',fontsize=15)\n",
    "plt.title('Root Mean Squared Error',fontsize=20,fontweight = 'bold')\n",
    "plt.axis([-0.25, 5.25, 0, 3])\n",
    "plt.legend(fontsize= 11,ncol = 2)\n",
    "plt.savefig(\"mseResults.png\", dpi=500)\n",
    "\n",
    "plt.figure()\n",
    "fig, ax = plt.subplots()\n",
    "plt.plot([maeLR[0][0],maeRR[0][0],maeBRR[0][0],maeDTR[0][0],maeGBR[0][0],maeMLPR[0][0]],'o',label= 'Clinical')\n",
    "plt.plot([maeLR[0][1],maeRR[0][1],maeBRR[0][1],maeDTR[0][1],maeGBR[0][1],maeMLPR[0][1]],'d',label= 'Single INR')\n",
    "plt.plot([maeLR[0][3],maeRR[0][3],maeBRR[0][3],maeDTR[0][3],maeGBR[0][3],maeMLPR[0][3]],'*',label= 'Longitudinal INR')\n",
    "plt.axhline(y=gage_mae, color='k', linestyle='--',label='Baseline')\n",
    "\n",
    "plt.grid(True)\n",
    "ax.set_xticks(x)\n",
    "ax.set_xticklabels(['L','R','BR','DT','GB','MLP'],fontsize = 13)\n",
    "\n",
    "plt.xlabel('Model',fontsize=15)\n",
    "plt.ylabel('Dose (mg/day)',fontsize=15)\n",
    "plt.title('Mean Absolute Error',fontsize=20,fontweight = 'bold')\n",
    "plt.axis([-0.25, 5.25, 0, 3])\n",
    "plt.legend(fontsize= 11,ncol = 2)\n",
    "\n",
    "plt.savefig(\"maeResults.png\", dpi=500)"
   ]
  },
  {
   "cell_type": "code",
   "execution_count": 36,
   "metadata": {},
   "outputs": [],
   "source": [
    "y_test_r = np.reshape(y_test,(y_test.shape[0],1))\n",
    "GBR_pred2_r = np.reshape(y_test,(GBR_pred2.shape[0],1))\n",
    "GBR_pred4_r = np.reshape(y_test,(GBR_pred4.shape[0],1))\n",
    "GBR_pred6_r = np.reshape(y_test,(GBR_pred6.shape[0],1))\n",
    "\n",
    "corrcoef_baseline = metrics.r2_score(X_test.maintain_dose, X_test.clinical_dose4_5)\n",
    "corrcoef_gbr2 = metrics.r2_score(y_test, GBR_pred2)\n",
    "corrcoef_gbr4 = metrics.r2_score(y_test, GBR_pred4)\n",
    "corrcoef_gbr6 = metrics.r2_score(y_test, GBR_pred6)"
   ]
  },
  {
   "cell_type": "code",
   "execution_count": null,
   "metadata": {},
   "outputs": [],
   "source": []
  },
  {
   "cell_type": "code",
   "execution_count": 37,
   "metadata": {},
   "outputs": [
    {
     "data": {
      "text/plain": [
       "<Figure size 432x288 with 0 Axes>"
      ]
     },
     "metadata": {},
     "output_type": "display_data"
    },
    {
     "data": {
      "image/png": "[encoded data removed]",
      "text/plain": [
       "<Figure size 432x288 with 1 Axes>"
      ]
     },
     "metadata": {
      "needs_background": "light"
     },
     "output_type": "display_data"
    },
    {
     "data": {
      "image/png": "[encoded data removed]",
      "text/plain": [
       "<Figure size 432x288 with 1 Axes>"
      ]
     },
     "metadata": {
      "needs_background": "light"
     },
     "output_type": "display_data"
    },
    {
     "data": {
      "image/png": "[encoded data removed]",
      "text/plain": [
       "<Figure size 432x288 with 1 Axes>"
      ]
     },
     "metadata": {
      "needs_background": "light"
     },
     "output_type": "display_data"
    },
    {
     "data": {
      "image/png": "[encoded data removed]",
      "text/plain": [
       "<Figure size 432x288 with 1 Axes>"
      ]
     },
     "metadata": {
      "needs_background": "light"
     },
     "output_type": "display_data"
    }
   ],
   "source": [
    "np.savetxt('clindoseTest.csv', X_test.clinical_dose4_5)\n",
    "\n",
    "fig = plt.figure()\n",
    "plt.show()\n",
    "plt.plot(y_test,X_test.clinical_dose4_5,'.')\n",
    "plt.plot([0, 16], [0, 16], ls=\"--\", c=\".3\")\n",
    "plt.xlabel('Actual dose (mg/day)',fontsize=15)\n",
    "plt.ylabel('Predicted dose (mg/day)',fontsize=15)\n",
    "plt.title('Baseline',fontsize=20,fontweight='bold')\n",
    "plt.grid(True)\n",
    "plt.axis([0, 16, 0, 16])\n",
    "a = plt.text(0.5, 13, f\"$R^2$ = {round(corrcoef_baseline,4)}\", fontsize=12)\n",
    "a.set_bbox(dict(facecolor='white',edgecolor='white'))\n",
    "plt.savefig(\"scatterBaseline.png\", dpi=500)\n",
    "\n",
    "plt.figure()\n",
    "plt.plot(y_test,GBR_pred2,'.')\n",
    "plt.plot([0, 16], [0, 16], ls=\"--\", c=\".3\")\n",
    "plt.xlabel('Actual dose (mg/day)',fontsize=15)\n",
    "plt.ylabel('Predicted dose (mg/day)',fontsize=15)\n",
    "plt.title('GB-SINR',fontsize=20,fontweight='bold')\n",
    "plt.grid(True)\n",
    "plt.axis([0, 16, 0, 16])\n",
    "a = plt.text(.5, 13, f\"$R^2$ = {round(corrcoef_gbr2,4)}\", fontsize=12)\n",
    "a.set_bbox(dict(facecolor='white',edgecolor='white'))\n",
    "plt.savefig(\"scatterGBRSINR.png\", dpi=500)\n",
    "\n",
    "plt.figure()\n",
    "plt.plot(y_test,GBR_pred4,'.')\n",
    "plt.plot([0, 16], [0, 16], ls=\"--\", c=\".3\")\n",
    "plt.xlabel('Actual dose (mg/day)',fontsize=15)\n",
    "plt.ylabel('Predicted dose (mg/day)',fontsize=15)\n",
    "plt.title('GB-LINR',fontsize=20,fontweight='bold')\n",
    "plt.grid(True)\n",
    "plt.axis([0, 16, 0, 16])\n",
    "a = plt.text(.5, 13, f\"$R^2$ = {round(corrcoef_gbr4,3)}\", fontsize=12)\n",
    "a.set_bbox(dict(facecolor='white',edgecolor='white'))\n",
    "plt.savefig(\"scatterGBRLNR1.png\", dpi=500)\n",
    "\n",
    "plt.figure()\n",
    "plt.plot(y_test,GBR_pred6,'.')\n",
    "plt.plot([0, 16], [0, 16], ls=\"--\", c=\".3\")\n",
    "plt.xlabel('Actual dose (mg/day)',fontsize=15)\n",
    "plt.ylabel('Predicted dose (mg/day)',fontsize=15)\n",
    "plt.title('GB-LINR$^2$',fontsize=20,fontweight='bold')\n",
    "plt.grid(True)\n",
    "plt.axis([0, 16, 0, 16])\n",
    "a = plt.text(.5, 13, f\"$R^2$ = {round(corrcoef_gbr6,3)}\", fontsize=12)\n",
    "a.set_bbox(dict(facecolor='white',edgecolor='white'))\n",
    "plt.savefig(\"scatterGBRLNR2.png\", dpi=500)\n"
   ]
  },
  {
   "cell_type": "code",
   "execution_count": 38,
   "metadata": {},
   "outputs": [],
   "source": [
    "mask_AA = X_test['AA'] == 1\n",
    "X_test_bv_AA = X_test[mask_AA]\n",
    "y_test_bv_AA = y_test[mask_AA]\n",
    "y_predict_bv_AA = GBR_pred4[mask_AA]\n",
    "\n",
    "mask_white = X_test['white'] == 1\n",
    "X_test_bv_white = X_test[mask_white]\n",
    "y_test_bv_white = y_test[mask_white]\n",
    "y_predict_bv_white = GBR_pred4[mask_white]\n",
    "\n",
    "mask_asian = X_test['asian'] == 1\n",
    "X_test_bv_asian = X_test[mask_asian]\n",
    "y_test_bv_asian = y_test[mask_asian]\n",
    "y_predict_bv_asian = GBR_pred4[mask_asian]\n",
    "\n",
    "mask_other = X_test['other_race'] == 1\n",
    "X_test_bv_other = X_test[mask_other]\n",
    "y_test_bv_other = y_test[mask_other]\n",
    "y_predict_bv_other = GBR_pred4[mask_other]"
   ]
  },
  {
   "cell_type": "code",
   "execution_count": 39,
   "metadata": {},
   "outputs": [
    {
     "name": "stdout",
     "output_type": "stream",
     "text": [
      "3.129669455518165\n",
      "1.2674305643704917\n"
     ]
    }
   ],
   "source": [
    "mseAA = metrics.mean_squared_error(X_test_bv_AA.maintain_dose, X_test_bv_AA.clinical_dose4_5)\n",
    "mseWhite = metrics.mean_squared_error(X_test_bv_white.maintain_dose, X_test_bv_white.clinical_dose4_5)\n",
    "mseAsian = metrics.mean_squared_error(X_test_bv_asian.maintain_dose, X_test_bv_asian.clinical_dose4_5)\n",
    "mseOther = metrics.mean_squared_error(X_test_bv_other.maintain_dose, X_test_bv_other.clinical_dose4_5)\n",
    "print(metrics.mean_squared_error(X_test.maintain_dose, X_test.clinical_dose4_5))\n",
    "\n",
    "\n",
    "maeAA = metrics.mean_absolute_error(X_test_bv_AA.maintain_dose, X_test_bv_AA.clinical_dose4_5)\n",
    "maeWhite = metrics.mean_absolute_error(X_test_bv_white.maintain_dose, X_test_bv_white.clinical_dose4_5)\n",
    "maeAsian = metrics.mean_absolute_error(X_test_bv_asian.maintain_dose, X_test_bv_asian.clinical_dose4_5)\n",
    "maeOther = metrics.mean_absolute_error(X_test_bv_other.maintain_dose, X_test_bv_other.clinical_dose4_5)\n",
    "print(metrics.mean_absolute_error(X_test.maintain_dose, X_test.clinical_dose4_5))"
   ]
  },
  {
   "cell_type": "markdown",
   "metadata": {},
   "source": [
    "## Maintenance Warfarin Dose"
   ]
  },
  {
   "cell_type": "code",
   "execution_count": 40,
   "metadata": {},
   "outputs": [
    {
     "name": "stdout",
     "output_type": "stream",
     "text": [
      "[5.746524790581843, 5.428571428571429, 4.0, 7.142857142857143]\n"
     ]
    },
    {
     "data": {
      "image/png": "[encoded data removed]",
      "text/plain": [
       "<Figure size 432x288 with 1 Axes>"
      ]
     },
     "metadata": {
      "needs_background": "light"
     },
     "output_type": "display_data"
    }
   ],
   "source": [
    "maintain_dose = df1[['maintain_dose']].values\n",
    "plt.show()\n",
    "\n",
    "num_bins = np.arange(1,18)\n",
    "n, bins, patches = plt.hist(maintain_dose, num_bins, facecolor='green', alpha=0.5,edgecolor = 'green')\n",
    "\n",
    "plt.xlabel('Maintenance  Dose (mg/day)',fontsize=15)\n",
    "plt.ylabel('Frequency',fontsize=15)\n",
    "plt.text(1,120,f\"N = {maintain_dose.shape[0]}\")\n",
    "plt.savefig(\"maintenancedose.png\", dpi=500)\n",
    "\n",
    "mean_maintain_dose = np.mean(maintain_dose)\n",
    "median_maintain_dose = np.median (maintain_dose)\n",
    "Q3_maintain_dose, Q1_maintain_dose = np.percentile(maintain_dose, [75 ,25])\n",
    "print([mean_maintain_dose,median_maintain_dose,Q1_maintain_dose,Q3_maintain_dose])"
   ]
  },
  {
   "cell_type": "code",
   "execution_count": 41,
   "metadata": {},
   "outputs": [
    {
     "name": "stdout",
     "output_type": "stream",
     "text": [
      "[91.07889627950112, 87.08973504000001, 74.84274105, 105.68702221000001]\n"
     ]
    }
   ],
   "source": [
    "weight = dfall.Weight.values\n",
    "\n",
    "mean_weight = np.mean(weight)\n",
    "median_weight = np.median (weight)\n",
    "Q1_weight, Q3_weight = np.percentile(weight, [25 ,75])\n",
    "print([mean_weight,median_weight,Q1_weight,Q3_weight])"
   ]
  },
  {
   "cell_type": "code",
   "execution_count": null,
   "metadata": {},
   "outputs": [],
   "source": []
  }
 ],
 "metadata": {
  "colab": {
   "name": "Adam_AutoRegrDOSE.ipynb",
   "provenance": []
  },
  "kernelspec": {
   "display_name": "Python 3",
   "language": "python",
   "name": "python3"
  },
  "language_info": {
   "codemirror_mode": {
    "name": "ipython",
    "version": 3
   },
   "file_extension": ".py",
   "mimetype": "text/x-python",
   "name": "python",
   "nbconvert_exporter": "python",
   "pygments_lexer": "ipython3",
   "version": "3.8.5"
  }
 },
 "nbformat": 4,
 "nbformat_minor": 1
}
